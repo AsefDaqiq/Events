{
 "cells": [
  {
   "cell_type": "code",
   "execution_count": 112,
   "metadata": {},
   "outputs": [],
   "source": [
    "import pandas as pd\n",
    "import matplotlib.pyplot as plt\n",
    "import seaborn as sns\n",
    "from datetime import datetime\n",
    "import numpy as np\n",
    "%matplotlib inline"
   ]
  },
  {
   "cell_type": "code",
   "execution_count": 178,
   "metadata": {},
   "outputs": [],
   "source": [
    "# importing the dataset\n",
    "parse_data = pd.read_excel(\"Event Business file append 300 vs2.xlsx\",index_col=\"Order Date\", parse_dates=True)"
   ]
  },
  {
   "cell_type": "code",
   "execution_count": 3,
   "metadata": {},
   "outputs": [],
   "source": [
    "# importing the data set\n",
    "event_bus = pd.read_excel(\"Event Business file append 300 vs2.xlsx\")"
   ]
  },
  {
   "cell_type": "code",
   "execution_count": 5,
   "metadata": {},
   "outputs": [
    {
     "data": {
      "text/html": [
       "<div>\n",
       "<style scoped>\n",
       "    .dataframe tbody tr th:only-of-type {\n",
       "        vertical-align: middle;\n",
       "    }\n",
       "\n",
       "    .dataframe tbody tr th {\n",
       "        vertical-align: top;\n",
       "    }\n",
       "\n",
       "    .dataframe thead th {\n",
       "        text-align: right;\n",
       "    }\n",
       "</style>\n",
       "<table border=\"1\" class=\"dataframe\">\n",
       "  <thead>\n",
       "    <tr style=\"text-align: right;\">\n",
       "      <th></th>\n",
       "      <th>COMPANY</th>\n",
       "      <th>FIRST</th>\n",
       "      <th>LAST</th>\n",
       "      <th>GENDER</th>\n",
       "      <th>STANTITLE</th>\n",
       "      <th>SOURCETITL</th>\n",
       "      <th>PADD1</th>\n",
       "      <th>PCITY</th>\n",
       "      <th>PST</th>\n",
       "      <th>PZIP</th>\n",
       "      <th>...</th>\n",
       "      <th>Box Office User First Name</th>\n",
       "      <th>Box Office User Last Name</th>\n",
       "      <th>Device Name</th>\n",
       "      <th>Transaction Location</th>\n",
       "      <th>Insurance</th>\n",
       "      <th>Attendee Business Information</th>\n",
       "      <th>Attendee Company Name</th>\n",
       "      <th>Attendee Industry</th>\n",
       "      <th>Attendee Number of Employees</th>\n",
       "      <th>Attendee How did you hear about the PEERS Gala?</th>\n",
       "    </tr>\n",
       "  </thead>\n",
       "  <tbody>\n",
       "    <tr>\n",
       "      <th>0</th>\n",
       "      <td>Ascot Shop</td>\n",
       "      <td>William</td>\n",
       "      <td>White</td>\n",
       "      <td>M</td>\n",
       "      <td>Sales Executive</td>\n",
       "      <td>Manager Sales</td>\n",
       "      <td>7750 Girard Ave</td>\n",
       "      <td>La Jolla</td>\n",
       "      <td>CA</td>\n",
       "      <td>92037-4477</td>\n",
       "      <td>...</td>\n",
       "      <td>NaN</td>\n",
       "      <td>NaN</td>\n",
       "      <td>NaN</td>\n",
       "      <td>Online</td>\n",
       "      <td>NaN</td>\n",
       "      <td>NaN</td>\n",
       "      <td>Ascot Shop</td>\n",
       "      <td>Mens Clothing</td>\n",
       "      <td>1 - 100</td>\n",
       "      <td>Friends</td>\n",
       "    </tr>\n",
       "    <tr>\n",
       "      <th>1</th>\n",
       "      <td>Attention Inc</td>\n",
       "      <td>Brittny</td>\n",
       "      <td>Wilson</td>\n",
       "      <td>F</td>\n",
       "      <td>Director</td>\n",
       "      <td>Co Founder Managing Member</td>\n",
       "      <td>2215 Winkler Ave Ste I</td>\n",
       "      <td>Fort Myers</td>\n",
       "      <td>CO</td>\n",
       "      <td>80302-4814</td>\n",
       "      <td>...</td>\n",
       "      <td>NaN</td>\n",
       "      <td>NaN</td>\n",
       "      <td>NaN</td>\n",
       "      <td>Online</td>\n",
       "      <td>NaN</td>\n",
       "      <td>NaN</td>\n",
       "      <td>NaN</td>\n",
       "      <td>NaN</td>\n",
       "      <td>NaN</td>\n",
       "      <td>Paddle</td>\n",
       "    </tr>\n",
       "    <tr>\n",
       "      <th>2</th>\n",
       "      <td>Branch Group Inc</td>\n",
       "      <td>James</td>\n",
       "      <td>Harrison</td>\n",
       "      <td>M</td>\n",
       "      <td>Chief Executive Officer</td>\n",
       "      <td>Chief Executive Officer</td>\n",
       "      <td>442 Rutherford Ave NE</td>\n",
       "      <td>Roanoke</td>\n",
       "      <td>VA</td>\n",
       "      <td>24016-2116</td>\n",
       "      <td>...</td>\n",
       "      <td>NaN</td>\n",
       "      <td>NaN</td>\n",
       "      <td>NaN</td>\n",
       "      <td>Bulk Upload</td>\n",
       "      <td>NaN</td>\n",
       "      <td>NaN</td>\n",
       "      <td>NaN</td>\n",
       "      <td>NaN</td>\n",
       "      <td>NaN</td>\n",
       "      <td>Doug Harrison</td>\n",
       "    </tr>\n",
       "    <tr>\n",
       "      <th>3</th>\n",
       "      <td>Branch Group Inc</td>\n",
       "      <td>James</td>\n",
       "      <td>Harrison</td>\n",
       "      <td>M</td>\n",
       "      <td>Chief Executive Officer</td>\n",
       "      <td>Chief Executive Officer</td>\n",
       "      <td>443 Rutherford Ave NE</td>\n",
       "      <td>Roanoke</td>\n",
       "      <td>VA</td>\n",
       "      <td>24016-2117</td>\n",
       "      <td>...</td>\n",
       "      <td>NaN</td>\n",
       "      <td>NaN</td>\n",
       "      <td>NaN</td>\n",
       "      <td>Bulk Upload</td>\n",
       "      <td>NaN</td>\n",
       "      <td>NaN</td>\n",
       "      <td>Events.com</td>\n",
       "      <td>Events</td>\n",
       "      <td>1 - 100</td>\n",
       "      <td>Mitch Thrower</td>\n",
       "    </tr>\n",
       "    <tr>\n",
       "      <th>4</th>\n",
       "      <td>Brennan Real Estate Group</td>\n",
       "      <td>Justin</td>\n",
       "      <td>Brennan</td>\n",
       "      <td>M</td>\n",
       "      <td>Owner</td>\n",
       "      <td>Owner</td>\n",
       "      <td>7938 Ivanhoe Ave</td>\n",
       "      <td>La Jolla</td>\n",
       "      <td>CA</td>\n",
       "      <td>92037-4569</td>\n",
       "      <td>...</td>\n",
       "      <td>NaN</td>\n",
       "      <td>NaN</td>\n",
       "      <td>NaN</td>\n",
       "      <td>Online</td>\n",
       "      <td>NaN</td>\n",
       "      <td>NaN</td>\n",
       "      <td>Brennan Real Estate Group</td>\n",
       "      <td>NaN</td>\n",
       "      <td>NaN</td>\n",
       "      <td>friend</td>\n",
       "    </tr>\n",
       "  </tbody>\n",
       "</table>\n",
       "<p>5 rows × 76 columns</p>\n",
       "</div>"
      ],
      "text/plain": [
       "                     COMPANY    FIRST      LAST GENDER  \\\n",
       "0                 Ascot Shop  William     White      M   \n",
       "1              Attention Inc  Brittny    Wilson      F   \n",
       "2           Branch Group Inc    James  Harrison      M   \n",
       "3           Branch Group Inc    James  Harrison      M   \n",
       "4  Brennan Real Estate Group   Justin   Brennan      M   \n",
       "\n",
       "                 STANTITLE                  SOURCETITL  \\\n",
       "0          Sales Executive               Manager Sales   \n",
       "1                 Director  Co Founder Managing Member   \n",
       "2  Chief Executive Officer     Chief Executive Officer   \n",
       "3  Chief Executive Officer     Chief Executive Officer   \n",
       "4                    Owner                       Owner   \n",
       "\n",
       "                    PADD1       PCITY PST        PZIP  \\\n",
       "0         7750 Girard Ave    La Jolla  CA  92037-4477   \n",
       "1  2215 Winkler Ave Ste I  Fort Myers  CO  80302-4814   \n",
       "2   442 Rutherford Ave NE     Roanoke  VA  24016-2116   \n",
       "3   443 Rutherford Ave NE     Roanoke  VA  24016-2117   \n",
       "4        7938 Ivanhoe Ave    La Jolla  CA  92037-4569   \n",
       "\n",
       "                        ...                         \\\n",
       "0                       ...                          \n",
       "1                       ...                          \n",
       "2                       ...                          \n",
       "3                       ...                          \n",
       "4                       ...                          \n",
       "\n",
       "   Box Office User First Name Box Office User Last Name Device Name  \\\n",
       "0                         NaN                       NaN         NaN   \n",
       "1                         NaN                       NaN         NaN   \n",
       "2                         NaN                       NaN         NaN   \n",
       "3                         NaN                       NaN         NaN   \n",
       "4                         NaN                       NaN         NaN   \n",
       "\n",
       "  Transaction Location Insurance Attendee Business Information  \\\n",
       "0               Online       NaN                           NaN   \n",
       "1               Online       NaN                           NaN   \n",
       "2          Bulk Upload       NaN                           NaN   \n",
       "3          Bulk Upload       NaN                           NaN   \n",
       "4               Online       NaN                           NaN   \n",
       "\n",
       "       Attendee Company Name  Attendee Industry  Attendee Number of Employees  \\\n",
       "0                 Ascot Shop      Mens Clothing                       1 - 100   \n",
       "1                        NaN                NaN                           NaN   \n",
       "2                        NaN                NaN                           NaN   \n",
       "3                 Events.com             Events                       1 - 100   \n",
       "4  Brennan Real Estate Group                NaN                           NaN   \n",
       "\n",
       "   Attendee How did you hear about the PEERS Gala?  \n",
       "0                                          Friends  \n",
       "1                                           Paddle  \n",
       "2                                    Doug Harrison  \n",
       "3                                    Mitch Thrower  \n",
       "4                                           friend  \n",
       "\n",
       "[5 rows x 76 columns]"
      ]
     },
     "execution_count": 5,
     "metadata": {},
     "output_type": "execute_result"
    }
   ],
   "source": [
    "# checking the head of the data\n",
    "event_bus.head()"
   ]
  },
  {
   "cell_type": "code",
   "execution_count": 153,
   "metadata": {},
   "outputs": [
    {
     "name": "stdout",
     "output_type": "stream",
     "text": [
      "<class 'pandas.core.frame.DataFrame'>\n",
      "RangeIndex: 299 entries, 0 to 298\n",
      "Data columns (total 77 columns):\n",
      "COMPANY                                            58 non-null object\n",
      "FIRST                                              58 non-null object\n",
      "LAST                                               58 non-null object\n",
      "GENDER                                             58 non-null object\n",
      "STANTITLE                                          58 non-null object\n",
      "SOURCETITL                                         58 non-null object\n",
      "PADD1                                              58 non-null object\n",
      "PCITY                                              58 non-null object\n",
      "PST                                                58 non-null object\n",
      "PZIP                                               58 non-null object\n",
      "PHONE                                              58 non-null float64\n",
      "EMAIL                                              32 non-null object\n",
      "Event Name                                         299 non-null object\n",
      "Buyer First Name                                   299 non-null object\n",
      "Buyer Last Name                                    299 non-null object\n",
      "Buyer Email                                        299 non-null object\n",
      "Buyer Shipping Address1                            0 non-null float64\n",
      "Buyer Shipping Address2                            0 non-null float64\n",
      "Buyer Shipping City                                0 non-null float64\n",
      "Buyer Shipping State                               0 non-null float64\n",
      "Buyer Shipping Country                             0 non-null float64\n",
      "Buyer Shipping Zip Code                            0 non-null float64\n",
      "Order Number                                       299 non-null object\n",
      "Order Date                                         299 non-null object\n",
      "Registration/Ticket Type                           299 non-null object\n",
      "Registration/Ticket Price                          299 non-null int64\n",
      "Payment Gateway                                    131 non-null object\n",
      "Payment Type                                       131 non-null object\n",
      "Payment Installments                               299 non-null object\n",
      "Payment Notes                                      0 non-null float64\n",
      "Currency                                           299 non-null object\n",
      "Promo Code                                         174 non-null object\n",
      "Discount Type                                      182 non-null object\n",
      "Discount Amount                                    299 non-null float64\n",
      "Multi-Quantity Discount Amount                     299 non-null int64\n",
      "Invitation Used                                    0 non-null float64\n",
      "Status                                             299 non-null object\n",
      "Registration Number                                299 non-null object\n",
      "Attendee First Name                                299 non-null object\n",
      "Attendee Last Name                                 299 non-null object\n",
      "Attendee Email                                     299 non-null object\n",
      "Attendee Gender                                    296 non-null object\n",
      "Attendee Date of Birth                             0 non-null float64\n",
      "Attendee Address1                                  0 non-null float64\n",
      "Attendee Address2                                  0 non-null float64\n",
      "Attendee City                                      0 non-null float64\n",
      "Attendee State                                     0 non-null float64\n",
      "Attendee Country                                   24 non-null object\n",
      "Attendee Zip Code                                  0 non-null float64\n",
      "Attendee Phone                                     299 non-null object\n",
      "Event Start Date                                   299 non-null object\n",
      "Modified Date                                      25 non-null object\n",
      "Cancelled Date                                     9 non-null object\n",
      "Team Name                                          0 non-null float64\n",
      "Team Role                                          0 non-null float64\n",
      "Team Position                                      0 non-null float64\n",
      "Team Size                                          0 non-null float64\n",
      "Group Name                                         0 non-null float64\n",
      "UUID                                               299 non-null object\n",
      "Selfie Image URL                                   0 non-null float64\n",
      "Signature Image URL                                0 non-null float64\n",
      "Attendee Number                                    0 non-null float64\n",
      "Device Used                                        0 non-null float64\n",
      "Latest Check In Date                               0 non-null float64\n",
      "Check In Status                                    299 non-null object\n",
      "Latest Check Out Date                              0 non-null float64\n",
      "Box Office User First Name                         0 non-null float64\n",
      "Box Office User Last Name                          0 non-null float64\n",
      "Device Name                                        0 non-null float64\n",
      "Transaction Location                               299 non-null object\n",
      "Insurance                                          0 non-null float64\n",
      "Attendee Business Information                      0 non-null float64\n",
      "Attendee Company Name                              148 non-null object\n",
      "Attendee Industry                                  73 non-null object\n",
      "Attendee Number of Employees                       77 non-null object\n",
      "Attendee How did you hear about the PEERS Gala?    299 non-null object\n",
      "datetime                                           299 non-null datetime64[ns]\n",
      "dtypes: datetime64[ns](1), float64(32), int64(2), object(42)\n",
      "memory usage: 179.9+ KB\n"
     ]
    }
   ],
   "source": [
    "# data information\n",
    "event_bus.info()"
   ]
  },
  {
   "cell_type": "code",
   "execution_count": 6,
   "metadata": {},
   "outputs": [
    {
     "data": {
      "text/plain": [
       "(299, 76)"
      ]
     },
     "execution_count": 6,
     "metadata": {},
     "output_type": "execute_result"
    }
   ],
   "source": [
    "event_bus.shape"
   ]
  },
  {
   "cell_type": "code",
   "execution_count": 10,
   "metadata": {},
   "outputs": [
    {
     "data": {
      "text/plain": [
       "(299, 76)"
      ]
     },
     "execution_count": 10,
     "metadata": {},
     "output_type": "execute_result"
    }
   ],
   "source": [
    "# data diminsion\n",
    "event_bus.shape"
   ]
  },
  {
   "cell_type": "code",
   "execution_count": 9,
   "metadata": {},
   "outputs": [
    {
     "data": {
      "text/plain": [
       "COMPANY                                            241\n",
       "FIRST                                              241\n",
       "LAST                                               241\n",
       "GENDER                                             241\n",
       "STANTITLE                                          241\n",
       "SOURCETITL                                         241\n",
       "PADD1                                              241\n",
       "PCITY                                              241\n",
       "PST                                                241\n",
       "PZIP                                               241\n",
       "PHONE                                              241\n",
       "EMAIL                                              267\n",
       "Event Name                                           0\n",
       "Buyer First Name                                     0\n",
       "Buyer Last Name                                      0\n",
       "Buyer Email                                          0\n",
       "Buyer Shipping Address1                            299\n",
       "Buyer Shipping Address2                            299\n",
       "Buyer Shipping City                                299\n",
       "Buyer Shipping State                               299\n",
       "Buyer Shipping Country                             299\n",
       "Buyer Shipping Zip Code                            299\n",
       "Order Number                                         0\n",
       "Order Date                                           0\n",
       "Registration/Ticket Type                             0\n",
       "Registration/Ticket Price                            0\n",
       "Payment Gateway                                    168\n",
       "Payment Type                                       168\n",
       "Payment Installments                                 0\n",
       "Payment Notes                                      299\n",
       "                                                  ... \n",
       "Attendee State                                     299\n",
       "Attendee Country                                   275\n",
       "Attendee Zip Code                                  299\n",
       "Attendee Phone                                       0\n",
       "Event Start Date                                     0\n",
       "Modified Date                                      274\n",
       "Cancelled Date                                     290\n",
       "Team Name                                          299\n",
       "Team Role                                          299\n",
       "Team Position                                      299\n",
       "Team Size                                          299\n",
       "Group Name                                         299\n",
       "UUID                                                 0\n",
       "Selfie Image URL                                   299\n",
       "Signature Image URL                                299\n",
       "Attendee Number                                    299\n",
       "Device Used                                        299\n",
       "Latest Check In Date                               299\n",
       "Check In Status                                      0\n",
       "Latest Check Out Date                              299\n",
       "Box Office User First Name                         299\n",
       "Box Office User Last Name                          299\n",
       "Device Name                                        299\n",
       "Transaction Location                                 0\n",
       "Insurance                                          299\n",
       "Attendee Business Information                      299\n",
       "Attendee Company Name                              151\n",
       "Attendee Industry                                  226\n",
       "Attendee Number of Employees                       222\n",
       "Attendee How did you hear about the PEERS Gala?      0\n",
       "Length: 76, dtype: int64"
      ]
     },
     "execution_count": 9,
     "metadata": {},
     "output_type": "execute_result"
    }
   ],
   "source": [
    "# checking the null values\n",
    "event_bus.isnull().sum()"
   ]
  },
  {
   "cell_type": "code",
   "execution_count": 73,
   "metadata": {},
   "outputs": [
    {
     "name": "stdout",
     "output_type": "stream",
     "text": [
      "Tim          15\n",
      "Maria        11\n",
      "Kimberley     3\n",
      "Hany          3\n",
      "Justin        3\n",
      "Mark          2\n",
      "Chris         2\n",
      "Daniel        2\n",
      "James         2\n",
      "Bill          2\n",
      "Kevin         2\n",
      "John          1\n",
      "Jeffrey       1\n",
      "Wendy         1\n",
      "KC            1\n",
      "Rona          1\n",
      "Jared         1\n",
      "Brittny       1\n",
      "William       1\n",
      "Willard       1\n",
      "Scott         1\n",
      "Marsha        1\n",
      "Name: FIRST, dtype: int64\n"
     ]
    }
   ],
   "source": [
    "#Name\n",
    "print(event_bus['FIRST'].value_counts())"
   ]
  },
  {
   "cell_type": "code",
   "execution_count": 56,
   "metadata": {},
   "outputs": [
    {
     "name": "stdout",
     "output_type": "stream",
     "text": [
      "Callan Capital               15\n",
      "Foundation Escrow Company    11\n",
      "Corporations Division         6\n",
      "Center Manufacturing Inc      3\n",
      "Brennan Real Estate Group     3\n",
      "Skillstorm                    3\n",
      "Ideahaus                      2\n",
      "CWDL CPAs                     2\n",
      "Branch Group Inc              2\n",
      "Ferrari of San Diego          2\n",
      "OFS Laboratories              1\n",
      "Attention Inc                 1\n",
      "Lancer Group                  1\n",
      "Lab Corp                      1\n",
      "Ascot Shop                    1\n",
      "Rady Children's Hospital      1\n",
      "National Group                1\n",
      "The Centers                   1\n",
      "Vox DJS                       1\n",
      "Name: COMPANY, dtype: int64\n"
     ]
    }
   ],
   "source": [
    "#COMPANY\n",
    "print(event_bus['COMPANY'].value_counts())"
   ]
  },
  {
   "cell_type": "code",
   "execution_count": 55,
   "metadata": {},
   "outputs": [
    {
     "name": "stdout",
     "output_type": "stream",
     "text": [
      "M    39\n",
      "F    15\n",
      "U     4\n",
      "Name: GENDER, dtype: int64\n"
     ]
    }
   ],
   "source": [
    "# Gender\n",
    "print(event_bus['GENDER'].value_counts())"
   ]
  },
  {
   "cell_type": "code",
   "execution_count": 54,
   "metadata": {},
   "outputs": [
    {
     "data": {
      "text/plain": [
       "Text(0, 0.5, 'Frequency')"
      ]
     },
     "execution_count": 54,
     "metadata": {},
     "output_type": "execute_result"
    },
    {
     "data": {
      "image/png": "[encoded data removed]",
      "text/plain": [
       "<Figure size 432x288 with 1 Axes>"
      ]
     },
     "metadata": {},
     "output_type": "display_data"
    }
   ],
   "source": [
    "# Gender distribution\n",
    "sns.set(style=\"darkgrid\")\n",
    "sns.countplot(event_bus['GENDER'])\n",
    "plt.title('Gender Distribution')\n",
    "plt.xlabel('Gender')\n",
    "plt.ylabel('Frequency')"
   ]
  },
  {
   "cell_type": "markdown",
   "metadata": {},
   "source": [
    "### Buyer"
   ]
  },
  {
   "cell_type": "code",
   "execution_count": 75,
   "metadata": {},
   "outputs": [
    {
     "name": "stdout",
     "output_type": "stream",
     "text": [
      "tim@callancapital.com                    12\n",
      "chad@fundloans.com                       12\n",
      "gary@delphiprivate.com                   12\n",
      "masud@foundationescrow.com               10\n",
      "mdavies@gspartners.com                   10\n",
      "sergio.rico@tritec-americas.com           9\n",
      "bryce.aberg@cushwake.com                  7\n",
      "brivard@pathfinderfunds.com               7\n",
      "rgramins@gmail.com                        6\n",
      "channing.hamlet@objectivecp.com           6\n",
      "rdixon@redhill.com                        6\n",
      "teraca@rchsd.org                          5\n",
      "ccraft@kpmg.com                           5\n",
      "jrubey@me.com                             5\n",
      "beast@aaimllc.com                         4\n",
      "mitch@events.com                          4\n",
      "aliarodman@gmail.com                      4\n",
      "mwilson@cwdlcpa.com                       3\n",
      "hgirgis@skillstorm.com                    3\n",
      "smotrichmd@lajollaivf.com                 3\n",
      "dan.keyes@caliberhomeloans.com            3\n",
      "lesli@kibar.us                            3\n",
      "zestful7@gmail.com                        3\n",
      "breatheasy1@mac.com                       3\n",
      "inna.cascone@outlook.com                  3\n",
      "justin.brennan@brensonco.com              3\n",
      "greg@bluesandholdings.com                 2\n",
      "stephenpartridge@mac.com                  2\n",
      "moe@razidesign.com                        2\n",
      "kristineshira@gmail.com                   2\n",
      "                                         ..\n",
      "sean_puckett@mechanicsbank.com            1\n",
      "sasha27g@gmail.com                        1\n",
      "bgriffin2020@yahoo.com                    1\n",
      "admin@peersnetwork.org                    1\n",
      "kkellough@gmail.com                       1\n",
      "jonathan@arctaris.com                     1\n",
      "talmoore10@gmail.com                      1\n",
      "staciefleming77@gmail.com                 1\n",
      "jon@fundloans.com                         1\n",
      "kc@voxdjs.com                             1\n",
      "ryan@vallettawoodsgroup.com               1\n",
      "clin@events.com                           1\n",
      "vgriggs@20lounge.com                      1\n",
      "scott.dunklee@thelancergroup.com          1\n",
      "jeff.schranz@yahoo.com                    1\n",
      "jeff@solyogastudios.com                   1\n",
      "cathirb@gmail.com                         1\n",
      "edbagdasar@gmail.com                      1\n",
      "jennifer@eo-sandiego.org                  1\n",
      "jmillsremax@yahoo.com                     1\n",
      "dashan.subramaniam@thelancergroup.com     1\n",
      "michael.lawrence@morganstanley.com        1\n",
      "drodman@krns-inc.com                      1\n",
      "a.styc99@gmail.com                        1\n",
      "davanzojessica@hotmail.com                1\n",
      "llavoie@rchsd.org                         1\n",
      "bill@swayvc.com                           1\n",
      "bourne1@mac.com                           1\n",
      "tetyanavoziy@yahoo.com                    1\n",
      "mustafasarwary@hotmail.com                1\n",
      "Name: Buyer Email, Length: 125, dtype: int64\n"
     ]
    }
   ],
   "source": [
    "#Buyer Email\n",
    "print(event_bus['Buyer Email'].value_counts())"
   ]
  },
  {
   "cell_type": "code",
   "execution_count": 76,
   "metadata": {},
   "outputs": [
    {
     "data": {
      "text/plain": [
       "(299,)"
      ]
     },
     "execution_count": 76,
     "metadata": {},
     "output_type": "execute_result"
    }
   ],
   "source": [
    "# email\n",
    "event_bus['Buyer Email'].shape"
   ]
  },
  {
   "cell_type": "code",
   "execution_count": 30,
   "metadata": {},
   "outputs": [
    {
     "name": "stdout",
     "output_type": "stream",
     "text": [
      "President                  16\n",
      "Office Manager             11\n",
      "Chief Executive Officer     7\n",
      "Owner                       5\n",
      "Library Professional        4\n",
      "Manager                     3\n",
      "Other Contacts              3\n",
      "Partner                     2\n",
      "General Manager             2\n",
      "Executive Officer           2\n",
      "Sales Executive             1\n",
      "Director                    1\n",
      "Other Chief Officers        1\n",
      "Name: STANTITLE, dtype: int64\n"
     ]
    }
   ],
   "source": [
    "# number of the \"STANTITLE\"\n",
    "print(event_bus['STANTITLE'].value_counts())"
   ]
  },
  {
   "cell_type": "code",
   "execution_count": 159,
   "metadata": {},
   "outputs": [],
   "source": [
    "event = event_bus.pivot_table(index=\"GENDER\", columns=\"SOURCETITL\")\n",
    "event.to_excel(\"pivot.xlsx\")"
   ]
  },
  {
   "cell_type": "code",
   "execution_count": 29,
   "metadata": {},
   "outputs": [],
   "source": [
    "#event_bus.groupby('Attendee Gender').count()"
   ]
  },
  {
   "cell_type": "code",
   "execution_count": 40,
   "metadata": {},
   "outputs": [
    {
     "data": {
      "text/plain": [
       "<matplotlib.axes._subplots.AxesSubplot at 0xf8f6d78be0>"
      ]
     },
     "execution_count": 40,
     "metadata": {},
     "output_type": "execute_result"
    },
    {
     "data": {
      "image/png": "[encoded data removed]",
      "text/plain": [
       "<Figure size 1440x432 with 1 Axes>"
      ]
     },
     "metadata": {},
     "output_type": "display_data"
    }
   ],
   "source": [
    "# number of the \"STANTITLE\" distribution\n",
    "plt.figure(figsize = (20,6))\n",
    "sns.countplot(event_bus['STANTITLE'], saturation=0.9, edgecolor=sns.color_palette(\"dark\", 3))"
   ]
  },
  {
   "cell_type": "code",
   "execution_count": 41,
   "metadata": {},
   "outputs": [
    {
     "name": "stdout",
     "output_type": "stream",
     "text": [
      "President                          16\n",
      "Office Manager                     11\n",
      "Chief Executive Officer             5\n",
      "Owner                               5\n",
      "Other Contacts                      3\n",
      "Senior Record Archivist             3\n",
      "Partner                             2\n",
      "Ceo                                 2\n",
      "Founder Chief Executive Officer     2\n",
      "Manager                             2\n",
      "General Manager                     2\n",
      "Co Founder Managing Member          1\n",
      "Officer                             1\n",
      "Manager Sales                       1\n",
      "Manager Or Supervisor               1\n",
      "Other Chief Officers                1\n",
      "Name: SOURCETITL, dtype: int64\n"
     ]
    }
   ],
   "source": [
    "# number of the \"STANTITLE\"\n",
    "print(event_bus['SOURCETITL'].value_counts())"
   ]
  },
  {
   "cell_type": "code",
   "execution_count": 43,
   "metadata": {},
   "outputs": [
    {
     "data": {
      "text/plain": [
       "<matplotlib.axes._subplots.AxesSubplot at 0xf8f6a87668>"
      ]
     },
     "execution_count": 43,
     "metadata": {},
     "output_type": "execute_result"
    },
    {
     "data": {
      "image/png": "[encoded data removed]",
      "text/plain": [
       "<Figure size 1800x432 with 1 Axes>"
      ]
     },
     "metadata": {},
     "output_type": "display_data"
    }
   ],
   "source": [
    "# # number of the \"SourceTITLE\" Distribution\n",
    "plt.figure(figsize = (25,6))\n",
    "sns.countplot(event_bus['SOURCETITL'], saturation=0.9, edgecolor=sns.color_palette(\"dark\", 3))"
   ]
  },
  {
   "cell_type": "code",
   "execution_count": 44,
   "metadata": {},
   "outputs": [
    {
     "name": "stdout",
     "output_type": "stream",
     "text": [
      "tim@callancapital.com             15\n",
      "tammy.moore@scott.kyschools.us     3\n",
      "jamesh@branchhighways.com          2\n",
      "d.murphy@ilsos.net                 2\n",
      "c.milligan@ilsos.net               2\n",
      "chipwhite@ofsoptics.com            1\n",
      "jblakeley@rchsd.org                1\n",
      "wfletche@thecenters.us             1\n",
      "sdunklee@lancergroup.net           1\n",
      "kc@voxdjs.com                      1\n",
      "sue.evans@scott.kyschools.us       1\n",
      "jfleming@sos.ri.gov                1\n",
      "andrew@ascotshop.com               1\n",
      "Name: EMAIL, dtype: int64\n"
     ]
    }
   ],
   "source": [
    "# number of the \"Email\"\n",
    "print(event_bus['EMAIL'].value_counts())"
   ]
  },
  {
   "cell_type": "code",
   "execution_count": 45,
   "metadata": {},
   "outputs": [
    {
     "name": "stdout",
     "output_type": "stream",
     "text": [
      "A Night in Mykonos    299\n",
      "Name: Event Name, dtype: int64\n"
     ]
    }
   ],
   "source": [
    "# number of the \"Event Name\"\n",
    "print(event_bus['Event Name'].value_counts())"
   ]
  },
  {
   "cell_type": "markdown",
   "metadata": {},
   "source": [
    "### Attendee"
   ]
  },
  {
   "cell_type": "code",
   "execution_count": 52,
   "metadata": {},
   "outputs": [
    {
     "data": {
      "text/plain": [
       "0"
      ]
     },
     "execution_count": 52,
     "metadata": {},
     "output_type": "execute_result"
    }
   ],
   "source": [
    "# checking the null values of Attendee\n",
    "event_bus[\"Attendee First Name\"].isnull().sum()"
   ]
  },
  {
   "cell_type": "code",
   "execution_count": 68,
   "metadata": {},
   "outputs": [
    {
     "data": {
      "text/plain": [
       "True     276\n",
       "False     23\n",
       "dtype: int64"
      ]
     },
     "execution_count": 68,
     "metadata": {},
     "output_type": "execute_result"
    }
   ],
   "source": [
    "#duplicate names\n",
    "duplicates_names = event_bus.duplicated(subset=[\"FIRST\",\"LAST\"], keep='first')\n",
    "duplicates_names.value_counts()"
   ]
  },
  {
   "cell_type": "code",
   "execution_count": 69,
   "metadata": {},
   "outputs": [
    {
     "data": {
      "text/plain": [
       "241"
      ]
     },
     "execution_count": 69,
     "metadata": {},
     "output_type": "execute_result"
    }
   ],
   "source": [
    "#PCITY\n",
    "event_bus[\"PCITY\"].isnull().sum()"
   ]
  },
  {
   "cell_type": "code",
   "execution_count": 70,
   "metadata": {},
   "outputs": [
    {
     "name": "stdout",
     "output_type": "stream",
     "text": [
      "La Jolla       20\n",
      "San Diego      19\n",
      "Springfield     7\n",
      "Del Mar         2\n",
      "Roanoke         2\n",
      "Torrance        1\n",
      "Centennial      1\n",
      "Fort Myers      1\n",
      "Templeton       1\n",
      "Norcross        1\n",
      "New Orleans     1\n",
      "Ocala           1\n",
      "Providence      1\n",
      "Name: PCITY, dtype: int64\n"
     ]
    }
   ],
   "source": [
    "#PCITY numbers\n",
    "print(event_bus['PCITY'].value_counts())"
   ]
  },
  {
   "cell_type": "markdown",
   "metadata": {},
   "source": [
    "### Buyer"
   ]
  },
  {
   "cell_type": "code",
   "execution_count": 82,
   "metadata": {},
   "outputs": [
    {
     "name": "stdout",
     "output_type": "stream",
     "text": [
      "tim@callancapital.com                    12\n",
      "chad@fundloans.com                       12\n",
      "gary@delphiprivate.com                   12\n",
      "masud@foundationescrow.com               10\n",
      "mdavies@gspartners.com                   10\n",
      "sergio.rico@tritec-americas.com           9\n",
      "bryce.aberg@cushwake.com                  7\n",
      "brivard@pathfinderfunds.com               7\n",
      "rgramins@gmail.com                        6\n",
      "channing.hamlet@objectivecp.com           6\n",
      "rdixon@redhill.com                        6\n",
      "teraca@rchsd.org                          5\n",
      "ccraft@kpmg.com                           5\n",
      "jrubey@me.com                             5\n",
      "beast@aaimllc.com                         4\n",
      "mitch@events.com                          4\n",
      "aliarodman@gmail.com                      4\n",
      "mwilson@cwdlcpa.com                       3\n",
      "hgirgis@skillstorm.com                    3\n",
      "smotrichmd@lajollaivf.com                 3\n",
      "dan.keyes@caliberhomeloans.com            3\n",
      "lesli@kibar.us                            3\n",
      "zestful7@gmail.com                        3\n",
      "breatheasy1@mac.com                       3\n",
      "inna.cascone@outlook.com                  3\n",
      "justin.brennan@brensonco.com              3\n",
      "greg@bluesandholdings.com                 2\n",
      "stephenpartridge@mac.com                  2\n",
      "moe@razidesign.com                        2\n",
      "kristineshira@gmail.com                   2\n",
      "                                         ..\n",
      "sean_puckett@mechanicsbank.com            1\n",
      "sasha27g@gmail.com                        1\n",
      "bgriffin2020@yahoo.com                    1\n",
      "admin@peersnetwork.org                    1\n",
      "kkellough@gmail.com                       1\n",
      "jonathan@arctaris.com                     1\n",
      "talmoore10@gmail.com                      1\n",
      "staciefleming77@gmail.com                 1\n",
      "jon@fundloans.com                         1\n",
      "kc@voxdjs.com                             1\n",
      "ryan@vallettawoodsgroup.com               1\n",
      "clin@events.com                           1\n",
      "vgriggs@20lounge.com                      1\n",
      "scott.dunklee@thelancergroup.com          1\n",
      "jeff.schranz@yahoo.com                    1\n",
      "jeff@solyogastudios.com                   1\n",
      "cathirb@gmail.com                         1\n",
      "edbagdasar@gmail.com                      1\n",
      "jennifer@eo-sandiego.org                  1\n",
      "jmillsremax@yahoo.com                     1\n",
      "dashan.subramaniam@thelancergroup.com     1\n",
      "michael.lawrence@morganstanley.com        1\n",
      "drodman@krns-inc.com                      1\n",
      "a.styc99@gmail.com                        1\n",
      "davanzojessica@hotmail.com                1\n",
      "llavoie@rchsd.org                         1\n",
      "bill@swayvc.com                           1\n",
      "bourne1@mac.com                           1\n",
      "tetyanavoziy@yahoo.com                    1\n",
      "mustafasarwary@hotmail.com                1\n",
      "Name: Buyer Email, Length: 125, dtype: int64\n"
     ]
    }
   ],
   "source": [
    "# Buyer Email\n",
    "print(event_bus['Buyer Email'].value_counts())"
   ]
  },
  {
   "cell_type": "code",
   "execution_count": 83,
   "metadata": {},
   "outputs": [
    {
     "name": "stdout",
     "output_type": "stream",
     "text": [
      "O-GEZTI-OJRGM-2A    12\n",
      "O-GEZTI-NBTGY-YQ    12\n",
      "O-GEZTK-NBXGA-ZQ     9\n",
      "O-GEZTK-MRQG4-ZQ     6\n",
      "O-GEZTK-NJWGQ-3Q     6\n",
      "O-GEZTI-NBUGE-4A     6\n",
      "O-GEZTK-NJWG4-2Q     6\n",
      "O-GEZTC-NJYG4-2A     6\n",
      "O-GEZTC-NRRGM-ZQ     6\n",
      "O-GEZTK-MRQGQ-YQ     6\n",
      "O-GEZTI-NBTGU-ZQ     6\n",
      "O-GEZTK-MRQGM-YQ     4\n",
      "O-GEZTK-NJWGU-2A     4\n",
      "O-GEZTK-NBYGQ-4A     4\n",
      "O-GEZTK-NRUGQ-YA     4\n",
      "O-GEZTI-OJRHE-YA     4\n",
      "O-GEZTI-OJRGI-2A     4\n",
      "O-GEZTK-NRTHE-2Q     3\n",
      "O-GEZTC-NRSGM-4A     2\n",
      "O-GEZTI-MZZGU-2A     2\n",
      "O-GEZDQ-NRXGU-3A     2\n",
      "O-GEZTA-MBYGE-2Q     2\n",
      "O-GEZTK-NJWGM-3Q     2\n",
      "O-GEZDS-NBUGI-3A     2\n",
      "O-GEZTK-MRWGM-ZQ     2\n",
      "O-GEZTI-MRUHA-3Q     2\n",
      "O-GEZTA-OBYGE-YQ     2\n",
      "O-GEZDS-MJRGM-2A     2\n",
      "O-GEZDS-MRQGI-YA     2\n",
      "O-GEZDS-MZVHE-3Q     2\n",
      "                    ..\n",
      "O-GEZTK-NBTHA-ZA     1\n",
      "O-GEZTI-OBZGQ-YQ     1\n",
      "O-GEZTA-OJXHA-YA     1\n",
      "O-GEZTI-OBZGY-4Q     1\n",
      "O-GEZTO-MJQGU-4Q     1\n",
      "O-GEZTI-OBZGM-ZQ     1\n",
      "O-GEZTI-OJUG4-YQ     1\n",
      "O-GEZTA-MBQGU-4Q     1\n",
      "O-GEZDQ-NRTGE-ZA     1\n",
      "O-GEZTK-NJSGY-ZA     1\n",
      "O-GEZTQ-NZTGU-2Q     1\n",
      "O-GEZTO-MBZGE-YQ     1\n",
      "O-GEZTK-NRRGY-ZQ     1\n",
      "O-GEZTO-MBZGE-2A     1\n",
      "O-GEZTO-MBZGA-3Q     1\n",
      "O-GEZTO-MJQGU-2Q     1\n",
      "O-GEZTK-MBZGI-2Q     1\n",
      "O-GEZTA-NRRGU-3A     1\n",
      "O-GEZTK-NRRHE-3A     1\n",
      "O-GEZTK-NRZGI-2Q     1\n",
      "O-GEZTA-OJTGY-2Q     1\n",
      "O-GEZTA-MJXHE-ZQ     1\n",
      "O-GEZTI-NRXG4-3A     1\n",
      "O-GEZDS-MZUGA-YA     1\n",
      "O-GEZTI-NRUGU-4Q     1\n",
      "O-GEZTK-NZRGE-2A     1\n",
      "O-GEZTC-MZXGI-ZA     1\n",
      "O-GEZTQ-NZTGY-ZQ     1\n",
      "O-GEZTO-MBZGA-3A     1\n",
      "O-GEZTK-MZQG4-YA     1\n",
      "Name: Order Number, Length: 148, dtype: int64\n"
     ]
    }
   ],
   "source": [
    "# order number\n",
    "print(event_bus['Order Number'].value_counts())"
   ]
  },
  {
   "cell_type": "code",
   "execution_count": 84,
   "metadata": {},
   "outputs": [
    {
     "name": "stdout",
     "output_type": "stream",
     "text": [
      "VIP Ticket                                           151\n",
      "Single Ticket                                        113\n",
      "Pre-Sale Ticket - Ends 8.31.18                        11\n",
      "NICU Camera System Paddle Raise - $1,000               5\n",
      "NICU Camera System Paddle Raise - $500                 4\n",
      "Silver Sponsor - 4 VIP Tickets                         3\n",
      "NICU Camera System Paddle Raise - $2,000               2\n",
      "NICU Camera System Paddle Raise - $100                 2\n",
      "Ski-In & Ski-Out In Whistler Auction Item              2\n",
      "Gold Sponsor - 12 VIP Tickets                          1\n",
      "Greek \"Pop-Up Dinner & Wine\" for 10 Auction Item       1\n",
      "Take Me Out To The Ball Game Auction Item              1\n",
      "San Diego Zen Yoga Package Auction Item                1\n",
      "Beach Life Flying & Driving In Style Auction Item      1\n",
      "Making Magical Memories In Mykonos Auction Item        1\n",
      "Name: Registration/Ticket Type, dtype: int64\n"
     ]
    }
   ],
   "source": [
    "# Registration/Ticket Type\n",
    "print(event_bus['Registration/Ticket Type'].value_counts())"
   ]
  },
  {
   "cell_type": "code",
   "execution_count": 85,
   "metadata": {},
   "outputs": [
    {
     "name": "stdout",
     "output_type": "stream",
     "text": [
      "500     155\n",
      "225      69\n",
      "175      55\n",
      "1000      5\n",
      "3000      3\n",
      "2000      2\n",
      "6500      2\n",
      "100       2\n",
      "400       1\n",
      "5000      1\n",
      "7500      1\n",
      "1200      1\n",
      "1100      1\n",
      "2100      1\n",
      "Name: Registration/Ticket Price, dtype: int64\n"
     ]
    }
   ],
   "source": [
    "# Registration/Ticket Price\n",
    "print(event_bus['Registration/Ticket Price'].value_counts())"
   ]
  },
  {
   "cell_type": "code",
   "execution_count": 86,
   "metadata": {},
   "outputs": [
    {
     "data": {
      "text/plain": [
       "<matplotlib.axes._subplots.AxesSubplot at 0xf8f82057f0>"
      ]
     },
     "execution_count": 86,
     "metadata": {},
     "output_type": "execute_result"
    },
    {
     "data": {
      "image/png": "[encoded data removed]",
      "text/plain": [
       "<Figure size 1440x432 with 1 Axes>"
      ]
     },
     "metadata": {},
     "output_type": "display_data"
    }
   ],
   "source": [
    "# Registration/Ticket Price distribution\n",
    "plt.figure(figsize = (20,6))\n",
    "sns.countplot(event_bus['Registration/Ticket Price'], saturation=0.9, edgecolor=sns.color_palette(\"dark\", 3))"
   ]
  },
  {
   "cell_type": "code",
   "execution_count": 107,
   "metadata": {},
   "outputs": [
    {
     "name": "stderr",
     "output_type": "stream",
     "text": [
      "C:\\Users\\Asef\\Anaconda3\\lib\\site-packages\\scipy\\stats\\stats.py:1713: FutureWarning: Using a non-tuple sequence for multidimensional indexing is deprecated; use `arr[tuple(seq)]` instead of `arr[seq]`. In the future this will be interpreted as an array index, `arr[np.array(seq)]`, which will result either in an error or a different result.\n",
      "  return np.add.reduce(sorted[indexer] * weights, axis=axis) / sumval\n"
     ]
    },
    {
     "data": {
      "text/plain": [
       "<matplotlib.axes._subplots.AxesSubplot at 0xf8f82cf9e8>"
      ]
     },
     "execution_count": 107,
     "metadata": {},
     "output_type": "execute_result"
    },
    {
     "data": {
      "image/png": "[encoded data removed]",
      "text/plain": [
       "<Figure size 432x288 with 1 Axes>"
      ]
     },
     "metadata": {},
     "output_type": "display_data"
    }
   ],
   "source": [
    "# Registration/Ticket Price Distribution\n",
    "sns.distplot(event_bus['Registration/Ticket Price'].dropna(),bins=100,color='purple')"
   ]
  },
  {
   "cell_type": "code",
   "execution_count": 87,
   "metadata": {},
   "outputs": [
    {
     "name": "stdout",
     "output_type": "stream",
     "text": [
      "STRIPE    131\n",
      "Name: Payment Gateway, dtype: int64\n"
     ]
    }
   ],
   "source": [
    "# Payment Gateway\n",
    "print(event_bus['Payment Gateway'].value_counts())"
   ]
  },
  {
   "cell_type": "code",
   "execution_count": 88,
   "metadata": {},
   "outputs": [
    {
     "name": "stdout",
     "output_type": "stream",
     "text": [
      "CREDIT CARD    131\n",
      "Name: Payment Type, dtype: int64\n"
     ]
    }
   ],
   "source": [
    "# Payment Type\n",
    "print(event_bus['Payment Type'].value_counts())"
   ]
  },
  {
   "cell_type": "code",
   "execution_count": 89,
   "metadata": {},
   "outputs": [
    {
     "name": "stdout",
     "output_type": "stream",
     "text": [
      "Paid in Full    299\n",
      "Name: Payment Installments, dtype: int64\n"
     ]
    }
   ],
   "source": [
    "# Payment Installments\n",
    "print(event_bus['Payment Installments'].value_counts())"
   ]
  },
  {
   "cell_type": "code",
   "execution_count": 90,
   "metadata": {},
   "outputs": [
    {
     "name": "stdout",
     "output_type": "stream",
     "text": [
      "PROMOCODE          174\n",
      "REFER_A_FRIEND       7\n",
      "REFERRED_FRIEND      1\n",
      "Name: Discount Type, dtype: int64\n"
     ]
    }
   ],
   "source": [
    "# Discount Type\n",
    "print(event_bus['Discount Type'].value_counts())"
   ]
  },
  {
   "cell_type": "code",
   "execution_count": 91,
   "metadata": {},
   "outputs": [
    {
     "name": "stdout",
     "output_type": "stream",
     "text": [
      "500.0    139\n",
      "0.0      117\n",
      "225.0     29\n",
      "20.0       8\n",
      "50.0       4\n",
      "112.5      2\n",
      "Name: Discount Amount, dtype: int64\n"
     ]
    }
   ],
   "source": [
    "# Discount Amount\n",
    "print(event_bus['Discount Amount'].value_counts())"
   ]
  },
  {
   "cell_type": "code",
   "execution_count": 93,
   "metadata": {},
   "outputs": [
    {
     "data": {
      "text/plain": [
       "<matplotlib.axes._subplots.AxesSubplot at 0xf8f78c7b70>"
      ]
     },
     "execution_count": 93,
     "metadata": {},
     "output_type": "execute_result"
    },
    {
     "data": {
      "image/png": "[encoded data removed]",
      "text/plain": [
       "<Figure size 432x288 with 1 Axes>"
      ]
     },
     "metadata": {},
     "output_type": "display_data"
    }
   ],
   "source": [
    "# plt.figure(figsize = (12,6))\n",
    "sns.countplot(event_bus['Discount Amount'], saturation=0.9, edgecolor=sns.color_palette(\"dark\", 3))"
   ]
  },
  {
   "cell_type": "code",
   "execution_count": 94,
   "metadata": {},
   "outputs": [
    {
     "name": "stdout",
     "output_type": "stream",
     "text": [
      "active       290\n",
      "cancelled      9\n",
      "Name: Status, dtype: int64\n"
     ]
    }
   ],
   "source": [
    "# Status\n",
    "print(event_bus['Status'].value_counts())"
   ]
  },
  {
   "cell_type": "code",
   "execution_count": 99,
   "metadata": {},
   "outputs": [
    {
     "data": {
      "text/html": [
       "<div>\n",
       "<style scoped>\n",
       "    .dataframe tbody tr th:only-of-type {\n",
       "        vertical-align: middle;\n",
       "    }\n",
       "\n",
       "    .dataframe tbody tr th {\n",
       "        vertical-align: top;\n",
       "    }\n",
       "\n",
       "    .dataframe thead th {\n",
       "        text-align: right;\n",
       "    }\n",
       "</style>\n",
       "<table border=\"1\" class=\"dataframe\">\n",
       "  <thead>\n",
       "    <tr style=\"text-align: right;\">\n",
       "      <th></th>\n",
       "      <th>COMPANY</th>\n",
       "      <th>FIRST</th>\n",
       "      <th>LAST</th>\n",
       "      <th>GENDER</th>\n",
       "      <th>STANTITLE</th>\n",
       "      <th>SOURCETITL</th>\n",
       "      <th>PADD1</th>\n",
       "      <th>PCITY</th>\n",
       "      <th>PST</th>\n",
       "      <th>PZIP</th>\n",
       "      <th>...</th>\n",
       "      <th>Box Office User First Name</th>\n",
       "      <th>Box Office User Last Name</th>\n",
       "      <th>Device Name</th>\n",
       "      <th>Transaction Location</th>\n",
       "      <th>Insurance</th>\n",
       "      <th>Attendee Business Information</th>\n",
       "      <th>Attendee Company Name</th>\n",
       "      <th>Attendee Industry</th>\n",
       "      <th>Attendee Number of Employees</th>\n",
       "      <th>Attendee How did you hear about the PEERS Gala?</th>\n",
       "    </tr>\n",
       "  </thead>\n",
       "  <tbody>\n",
       "    <tr>\n",
       "      <th>13</th>\n",
       "      <td>Callan Capital</td>\n",
       "      <td>Tim</td>\n",
       "      <td>Callan</td>\n",
       "      <td>M</td>\n",
       "      <td>President</td>\n",
       "      <td>President</td>\n",
       "      <td>1250 Prospect St Ste 1</td>\n",
       "      <td>La Jolla</td>\n",
       "      <td>CA</td>\n",
       "      <td>92037-3618</td>\n",
       "      <td>...</td>\n",
       "      <td>NaN</td>\n",
       "      <td>NaN</td>\n",
       "      <td>NaN</td>\n",
       "      <td>Bulk Upload</td>\n",
       "      <td>NaN</td>\n",
       "      <td>NaN</td>\n",
       "      <td>NaN</td>\n",
       "      <td>NaN</td>\n",
       "      <td>NaN</td>\n",
       "      <td>Member/President</td>\n",
       "    </tr>\n",
       "    <tr>\n",
       "      <th>14</th>\n",
       "      <td>Callan Capital</td>\n",
       "      <td>Tim</td>\n",
       "      <td>Callan</td>\n",
       "      <td>M</td>\n",
       "      <td>President</td>\n",
       "      <td>President</td>\n",
       "      <td>1250 Prospect St Ste 1</td>\n",
       "      <td>La Jolla</td>\n",
       "      <td>CA</td>\n",
       "      <td>92037-3618</td>\n",
       "      <td>...</td>\n",
       "      <td>NaN</td>\n",
       "      <td>NaN</td>\n",
       "      <td>NaN</td>\n",
       "      <td>Bulk Upload</td>\n",
       "      <td>NaN</td>\n",
       "      <td>NaN</td>\n",
       "      <td>NaN</td>\n",
       "      <td>NaN</td>\n",
       "      <td>NaN</td>\n",
       "      <td>Spouse of Member</td>\n",
       "    </tr>\n",
       "    <tr>\n",
       "      <th>15</th>\n",
       "      <td>Callan Capital</td>\n",
       "      <td>Tim</td>\n",
       "      <td>Callan</td>\n",
       "      <td>M</td>\n",
       "      <td>President</td>\n",
       "      <td>President</td>\n",
       "      <td>1250 Prospect St Ste 1</td>\n",
       "      <td>La Jolla</td>\n",
       "      <td>CA</td>\n",
       "      <td>92037-3618</td>\n",
       "      <td>...</td>\n",
       "      <td>NaN</td>\n",
       "      <td>NaN</td>\n",
       "      <td>NaN</td>\n",
       "      <td>Bulk Upload</td>\n",
       "      <td>NaN</td>\n",
       "      <td>NaN</td>\n",
       "      <td>NaN</td>\n",
       "      <td>NaN</td>\n",
       "      <td>NaN</td>\n",
       "      <td>Member</td>\n",
       "    </tr>\n",
       "    <tr>\n",
       "      <th>16</th>\n",
       "      <td>Callan Capital</td>\n",
       "      <td>Tim</td>\n",
       "      <td>Callan</td>\n",
       "      <td>M</td>\n",
       "      <td>President</td>\n",
       "      <td>President</td>\n",
       "      <td>1250 Prospect St Ste 1</td>\n",
       "      <td>La Jolla</td>\n",
       "      <td>CA</td>\n",
       "      <td>92037-3618</td>\n",
       "      <td>...</td>\n",
       "      <td>NaN</td>\n",
       "      <td>NaN</td>\n",
       "      <td>NaN</td>\n",
       "      <td>Bulk Upload</td>\n",
       "      <td>NaN</td>\n",
       "      <td>NaN</td>\n",
       "      <td>NaN</td>\n",
       "      <td>NaN</td>\n",
       "      <td>NaN</td>\n",
       "      <td>Guest of Member</td>\n",
       "    </tr>\n",
       "    <tr>\n",
       "      <th>17</th>\n",
       "      <td>Callan Capital</td>\n",
       "      <td>Tim</td>\n",
       "      <td>Callan</td>\n",
       "      <td>M</td>\n",
       "      <td>President</td>\n",
       "      <td>President</td>\n",
       "      <td>1250 Prospect St Ste 1</td>\n",
       "      <td>La Jolla</td>\n",
       "      <td>CA</td>\n",
       "      <td>92037-3618</td>\n",
       "      <td>...</td>\n",
       "      <td>NaN</td>\n",
       "      <td>NaN</td>\n",
       "      <td>NaN</td>\n",
       "      <td>Bulk Upload</td>\n",
       "      <td>NaN</td>\n",
       "      <td>NaN</td>\n",
       "      <td>NaN</td>\n",
       "      <td>NaN</td>\n",
       "      <td>NaN</td>\n",
       "      <td>Guest of Member</td>\n",
       "    </tr>\n",
       "    <tr>\n",
       "      <th>18</th>\n",
       "      <td>Callan Capital</td>\n",
       "      <td>Tim</td>\n",
       "      <td>Callan</td>\n",
       "      <td>M</td>\n",
       "      <td>President</td>\n",
       "      <td>President</td>\n",
       "      <td>1250 Prospect St Ste 1</td>\n",
       "      <td>La Jolla</td>\n",
       "      <td>CA</td>\n",
       "      <td>92037-3618</td>\n",
       "      <td>...</td>\n",
       "      <td>NaN</td>\n",
       "      <td>NaN</td>\n",
       "      <td>NaN</td>\n",
       "      <td>Bulk Upload</td>\n",
       "      <td>NaN</td>\n",
       "      <td>NaN</td>\n",
       "      <td>NaN</td>\n",
       "      <td>NaN</td>\n",
       "      <td>NaN</td>\n",
       "      <td>Guest of Member</td>\n",
       "    </tr>\n",
       "    <tr>\n",
       "      <th>85</th>\n",
       "      <td>NaN</td>\n",
       "      <td>NaN</td>\n",
       "      <td>NaN</td>\n",
       "      <td>NaN</td>\n",
       "      <td>NaN</td>\n",
       "      <td>NaN</td>\n",
       "      <td>NaN</td>\n",
       "      <td>NaN</td>\n",
       "      <td>NaN</td>\n",
       "      <td>NaN</td>\n",
       "      <td>...</td>\n",
       "      <td>NaN</td>\n",
       "      <td>NaN</td>\n",
       "      <td>NaN</td>\n",
       "      <td>Online</td>\n",
       "      <td>NaN</td>\n",
       "      <td>NaN</td>\n",
       "      <td>NaN</td>\n",
       "      <td>NaN</td>\n",
       "      <td>NaN</td>\n",
       "      <td>Paddle</td>\n",
       "    </tr>\n",
       "    <tr>\n",
       "      <th>121</th>\n",
       "      <td>NaN</td>\n",
       "      <td>NaN</td>\n",
       "      <td>NaN</td>\n",
       "      <td>NaN</td>\n",
       "      <td>NaN</td>\n",
       "      <td>NaN</td>\n",
       "      <td>NaN</td>\n",
       "      <td>NaN</td>\n",
       "      <td>NaN</td>\n",
       "      <td>NaN</td>\n",
       "      <td>...</td>\n",
       "      <td>NaN</td>\n",
       "      <td>NaN</td>\n",
       "      <td>NaN</td>\n",
       "      <td>Online</td>\n",
       "      <td>NaN</td>\n",
       "      <td>NaN</td>\n",
       "      <td>NaN</td>\n",
       "      <td>NaN</td>\n",
       "      <td>NaN</td>\n",
       "      <td>Friend</td>\n",
       "    </tr>\n",
       "    <tr>\n",
       "      <th>122</th>\n",
       "      <td>NaN</td>\n",
       "      <td>NaN</td>\n",
       "      <td>NaN</td>\n",
       "      <td>NaN</td>\n",
       "      <td>NaN</td>\n",
       "      <td>NaN</td>\n",
       "      <td>NaN</td>\n",
       "      <td>NaN</td>\n",
       "      <td>NaN</td>\n",
       "      <td>NaN</td>\n",
       "      <td>...</td>\n",
       "      <td>NaN</td>\n",
       "      <td>NaN</td>\n",
       "      <td>NaN</td>\n",
       "      <td>Online</td>\n",
       "      <td>NaN</td>\n",
       "      <td>NaN</td>\n",
       "      <td>NaN</td>\n",
       "      <td>NaN</td>\n",
       "      <td>NaN</td>\n",
       "      <td>Friend</td>\n",
       "    </tr>\n",
       "  </tbody>\n",
       "</table>\n",
       "<p>9 rows × 76 columns</p>\n",
       "</div>"
      ],
      "text/plain": [
       "            COMPANY FIRST    LAST GENDER  STANTITLE SOURCETITL  \\\n",
       "13   Callan Capital   Tim  Callan      M  President  President   \n",
       "14   Callan Capital   Tim  Callan      M  President  President   \n",
       "15   Callan Capital   Tim  Callan      M  President  President   \n",
       "16   Callan Capital   Tim  Callan      M  President  President   \n",
       "17   Callan Capital   Tim  Callan      M  President  President   \n",
       "18   Callan Capital   Tim  Callan      M  President  President   \n",
       "85              NaN   NaN     NaN    NaN        NaN        NaN   \n",
       "121             NaN   NaN     NaN    NaN        NaN        NaN   \n",
       "122             NaN   NaN     NaN    NaN        NaN        NaN   \n",
       "\n",
       "                      PADD1     PCITY  PST        PZIP  \\\n",
       "13   1250 Prospect St Ste 1  La Jolla   CA  92037-3618   \n",
       "14   1250 Prospect St Ste 1  La Jolla   CA  92037-3618   \n",
       "15   1250 Prospect St Ste 1  La Jolla   CA  92037-3618   \n",
       "16   1250 Prospect St Ste 1  La Jolla   CA  92037-3618   \n",
       "17   1250 Prospect St Ste 1  La Jolla   CA  92037-3618   \n",
       "18   1250 Prospect St Ste 1  La Jolla   CA  92037-3618   \n",
       "85                      NaN       NaN  NaN         NaN   \n",
       "121                     NaN       NaN  NaN         NaN   \n",
       "122                     NaN       NaN  NaN         NaN   \n",
       "\n",
       "                          ...                         \\\n",
       "13                        ...                          \n",
       "14                        ...                          \n",
       "15                        ...                          \n",
       "16                        ...                          \n",
       "17                        ...                          \n",
       "18                        ...                          \n",
       "85                        ...                          \n",
       "121                       ...                          \n",
       "122                       ...                          \n",
       "\n",
       "     Box Office User First Name Box Office User Last Name Device Name  \\\n",
       "13                          NaN                       NaN         NaN   \n",
       "14                          NaN                       NaN         NaN   \n",
       "15                          NaN                       NaN         NaN   \n",
       "16                          NaN                       NaN         NaN   \n",
       "17                          NaN                       NaN         NaN   \n",
       "18                          NaN                       NaN         NaN   \n",
       "85                          NaN                       NaN         NaN   \n",
       "121                         NaN                       NaN         NaN   \n",
       "122                         NaN                       NaN         NaN   \n",
       "\n",
       "    Transaction Location Insurance Attendee Business Information  \\\n",
       "13           Bulk Upload       NaN                           NaN   \n",
       "14           Bulk Upload       NaN                           NaN   \n",
       "15           Bulk Upload       NaN                           NaN   \n",
       "16           Bulk Upload       NaN                           NaN   \n",
       "17           Bulk Upload       NaN                           NaN   \n",
       "18           Bulk Upload       NaN                           NaN   \n",
       "85                Online       NaN                           NaN   \n",
       "121               Online       NaN                           NaN   \n",
       "122               Online       NaN                           NaN   \n",
       "\n",
       "     Attendee Company Name  Attendee Industry  Attendee Number of Employees  \\\n",
       "13                     NaN                NaN                           NaN   \n",
       "14                     NaN                NaN                           NaN   \n",
       "15                     NaN                NaN                           NaN   \n",
       "16                     NaN                NaN                           NaN   \n",
       "17                     NaN                NaN                           NaN   \n",
       "18                     NaN                NaN                           NaN   \n",
       "85                     NaN                NaN                           NaN   \n",
       "121                    NaN                NaN                           NaN   \n",
       "122                    NaN                NaN                           NaN   \n",
       "\n",
       "     Attendee How did you hear about the PEERS Gala?  \n",
       "13                                  Member/President  \n",
       "14                                  Spouse of Member  \n",
       "15                                            Member  \n",
       "16                                   Guest of Member  \n",
       "17                                   Guest of Member  \n",
       "18                                   Guest of Member  \n",
       "85                                            Paddle  \n",
       "121                                           Friend  \n",
       "122                                           Friend  \n",
       "\n",
       "[9 rows x 76 columns]"
      ]
     },
     "execution_count": 99,
     "metadata": {},
     "output_type": "execute_result"
    }
   ],
   "source": [
    "#Those who have canceled the Events\n",
    "event_bus[event_bus['Status'] == \"cancelled\"]"
   ]
  },
  {
   "cell_type": "markdown",
   "metadata": {},
   "source": [
    "## Only presedents have canceld the booking"
   ]
  },
  {
   "cell_type": "code",
   "execution_count": 100,
   "metadata": {},
   "outputs": [
    {
     "name": "stdout",
     "output_type": "stream",
     "text": [
      "mdavies@gspartners.com                     10\n",
      "brivard@pathfinderfunds.com                 7\n",
      "jon@dropmortgage.com                        6\n",
      "rgramins@gmail.com                          6\n",
      "tim@callancapital.com                       5\n",
      "ccraft@kpmg.com                             5\n",
      "jrubey@me.com                               5\n",
      "trevor@callancapital.com                    5\n",
      "BEast@aaimllc.com                           4\n",
      "zestful7@gmail.com                          3\n",
      "breatheasy1@mac.com                         3\n",
      "dan.keyes@caliberhomeloans.com              3\n",
      "lesli@kibar.us                              3\n",
      "david.crean@objectivecp.com                 3\n",
      "hgirgis@skillstorm.com                      3\n",
      "inna.cascone@outlook.com                    3\n",
      "john.alessio@procopio.com                   2\n",
      "kristineshira@gmail.com                     2\n",
      "chris@dropmortgage.com                      2\n",
      "david@tritec-americas.com                   2\n",
      "awest@fundloans.com                         2\n",
      "mikemilligan4444@gmail.com                  2\n",
      "kcole@modernluxury.com                      2\n",
      "rajah@promises2kids.org                     2\n",
      "dranisso@gmail.com                          2\n",
      "channing.hamlet@objectivecp.com             2\n",
      "tyhines@executivelpr.com                    2\n",
      "jennifer@callancapital.com                  2\n",
      "alexandra.magdaleno@bespokepartners.com     2\n",
      "miralvalle123@yahoo.com                     2\n",
      "                                           ..\n",
      "rsong@rchsd.org                             1\n",
      "ryan@callancapital.com                      1\n",
      "jonathan@arctaris.com                       1\n",
      "talmoore10@gmail.com                        1\n",
      "alisulaiman@yahoo.com                       1\n",
      "smotrichmd@lajollaivf.com                   1\n",
      "chadfrussell@cox.net                        1\n",
      "dioramckelvey@yahoo.com                     1\n",
      "finntony@gmail.com                          1\n",
      "clin@events.com                             1\n",
      "jmillsremax@yahoo.com                       1\n",
      "nicole.posner@gmail.com                     1\n",
      "petra_danka@yahoo.com                       1\n",
      "danielleburland@gmail.com                   1\n",
      "marilynchristopher1@gmail.com               1\n",
      "sjferrari@me.com                            1\n",
      "andrea@foundationnorth.com                  1\n",
      "kaharrison4@gmail.com                       1\n",
      "Rebekahnb@gmail.com                         1\n",
      "michelleintag@yahoo.com                     1\n",
      "ryan@vallettawoodsgroup.com                 1\n",
      "kc@voxdjs.com                               1\n",
      "masudsarwary@gmail.com                      1\n",
      "jennifer@eo-sandiego.org                    1\n",
      "gina.larson@hotmail.com                     1\n",
      "tetyanavoziy@yahoo.com                      1\n",
      "mustafasarwary@hotmail.com                  1\n",
      "salem@giuseppecatering.com                  1\n",
      "dharrison@events.com                        1\n",
      "mariaghannadian@yahoo.com                   1\n",
      "Name: Attendee Email, Length: 194, dtype: int64\n"
     ]
    }
   ],
   "source": [
    "# Attendee Email\n",
    "print(event_bus['Attendee Email'].value_counts())"
   ]
  },
  {
   "cell_type": "code",
   "execution_count": 101,
   "metadata": {},
   "outputs": [
    {
     "name": "stdout",
     "output_type": "stream",
     "text": [
      "Male      151\n",
      "Female    145\n",
      "Name: Attendee Gender, dtype: int64\n"
     ]
    }
   ],
   "source": [
    "# Attendee Gender\n",
    "print(event_bus['Attendee Gender'].value_counts())"
   ]
  },
  {
   "cell_type": "code",
   "execution_count": 105,
   "metadata": {},
   "outputs": [
    {
     "name": "stdout",
     "output_type": "stream",
     "text": [
      "9783761570        17\n",
      "866-912-4888      14\n",
      "888-634-4260      12\n",
      "858-222-8100      12\n",
      "858-454-7808       9\n",
      "619-453-4550       8\n",
      "858.350.1801       6\n",
      "(858) 875-4445     6\n",
      "310-570-2721       6\n",
      "(866) 912-4888     6\n",
      "858-459-0862       6\n",
      "858-966-8473       4\n",
      "619-889-1433?      4\n",
      "310-867-2938       4\n",
      "760-230-0658       4\n",
      "858-292-5766       4\n",
      "303-226-1479       4\n",
      "619-818-1500       4\n",
      "858-353-4310       4\n",
      "8588229867         3\n",
      "858-414-3141       3\n",
      "8585511001         3\n",
      "858-344-5436       3\n",
      "8583497459         2\n",
      "760.470.6328       2\n",
      "6199729916         2\n",
      "866-567-8449       2\n",
      "8587516624         2\n",
      "(858) 414-3141     2\n",
      "949-486-9014       2\n",
      "                  ..\n",
      "8584057585         1\n",
      "8584055939         1\n",
      "18583440255        1\n",
      "402-968-6674       1\n",
      "858-354-7600       1\n",
      "949-291-1734       1\n",
      "8583351162         1\n",
      "6198477569         1\n",
      "(858) 546 5462     1\n",
      "8582108254         1\n",
      "2035129899         1\n",
      "858 775 5303       1\n",
      "9179211279         1\n",
      "(760) 505-4735     1\n",
      "8585319026         1\n",
      "8584429345         1\n",
      "6196655797         1\n",
      "6194466920         1\n",
      "(760) 815-1996     1\n",
      "6193007766         1\n",
      "8588648134         1\n",
      "858-546 5462       1\n",
      "6198469736         1\n",
      "619-246-0660       1\n",
      "619-366-0273       1\n",
      "619 318 0009       1\n",
      "3232294928         1\n",
      "6199210449         1\n",
      "6199925676         1\n",
      "8586637782         1\n",
      "Name: Attendee Phone, Length: 146, dtype: int64\n"
     ]
    }
   ],
   "source": [
    "# Attendee Phone\n",
    "print(event_bus['Attendee Phone'].value_counts())"
   ]
  },
  {
   "cell_type": "code",
   "execution_count": 106,
   "metadata": {},
   "outputs": [
    {
     "name": "stdout",
     "output_type": "stream",
     "text": [
      "Drop Mortgage                                12\n",
      "Foundation Escrow                            10\n",
      "Events.com                                    9\n",
      "Tritec-Americas                               8\n",
      "La Jolla Oral and Facial Surgery              6\n",
      "Redhill Value Investing                       6\n",
      "Callan Capital                                6\n",
      "Pathfinder                                    6\n",
      "K&R Network Solutions                         5\n",
      "Versus Capital                                4\n",
      "GSP Partners                                  4\n",
      "Rady Children's Hospital-San Diego            3\n",
      "The Lancer Group                              3\n",
      "Sol Yoga                                      2\n",
      "Caliber                                       2\n",
      "Ty Hines Media                                2\n",
      "Sisu Academy                                  2\n",
      "Bespoke Partners                              2\n",
      "Ferrari San Diego                             2\n",
      "StartupCircle                                 2\n",
      "Procopio                                      2\n",
      "Purple Penguin PR                             2\n",
      "Elite Lifestyle Management                    2\n",
      "La Jolla Professional Plastic Surgery Inc     1\n",
      "Drop Mortgage, Inc.                           1\n",
      "Brennan Real Estate Group                     1\n",
      "Supply Chimp                                  1\n",
      "Cloud Break Advisors                          1\n",
      "Designs by Gigi Ri                            1\n",
      "foundation escrow north county                1\n",
      "                                             ..\n",
      "Modern Luxery                                 1\n",
      "Rady Children?s Hospital Foundation           1\n",
      "Razi Design                                   1\n",
      "Bankruptcy legal                              1\n",
      "Rady Children's Hospital                      1\n",
      "Sand Shade Properties                         1\n",
      "Trilogy Brands Group                          1\n",
      "JLL                                           1\n",
      "Agile Strategies                              1\n",
      "Bessemer Ventures                             1\n",
      "La Costa Dental group                         1\n",
      "Canadian Government                           1\n",
      "Mortgage & Notary                             1\n",
      "Sway Ventures                                 1\n",
      "TRITEC Americas                               1\n",
      "Gciuffa inc                                   1\n",
      "Skillstorm                                    1\n",
      "KW Fit Inc.                                   1\n",
      "858-966-8473                                  1\n",
      "1981                                          1\n",
      "Ideahaus                                      1\n",
      "Promises2Kids                                 1\n",
      "EY                                            1\n",
      "LA Costa Dental group                         1\n",
      "Bessemer                                      1\n",
      "Scripps                                       1\n",
      "CWDL, CPAs                                    1\n",
      "Rady Children's Hospital-SanDiego             1\n",
      "Valletta Woods Group                          1\n",
      "People Driven Solutions                       1\n",
      "Name: Attendee Company Name, Length: 69, dtype: int64\n"
     ]
    }
   ],
   "source": [
    "# Attendee Company Name\n",
    "print(event_bus['Attendee Company Name'].value_counts())"
   ]
  },
  {
   "cell_type": "code",
   "execution_count": 110,
   "metadata": {},
   "outputs": [
    {
     "name": "stdout",
     "output_type": "stream",
     "text": [
      "1 - 100      66\n",
      "250 & Up     10\n",
      "100 - 250     1\n",
      "Name: Attendee Number of Employees, dtype: int64\n"
     ]
    }
   ],
   "source": [
    "# Attendee Number of Employees\n",
    "print(event_bus['Attendee Number of Employees'].value_counts())"
   ]
  },
  {
   "cell_type": "code",
   "execution_count": 111,
   "metadata": {},
   "outputs": [
    {
     "name": "stdout",
     "output_type": "stream",
     "text": [
      "Guest of Member                         19\n",
      "PEERS Network Member                    17\n",
      "PEERS Network Member Friend / Family    15\n",
      "Paddle                                  14\n",
      "Friend                                  10\n",
      "Friends                                  9\n",
      "PEERS Network Member Sponsor             9\n",
      "Mitch Thrower                            8\n",
      "Events.com                               8\n",
      "PEERS Member Friend / Family             7\n",
      "Masud Sarwary                            7\n",
      "Tim Callan                               7\n",
      "PEERS Member Family/Friend               6\n",
      "PEERS Member                             6\n",
      "friends                                  6\n",
      "Member                                   6\n",
      "Heidi Dixon                              5\n",
      "Trevor Callan                            4\n",
      "PEERS Network Sponsor                    4\n",
      "PEERS Member Spouse                      4\n",
      "friend                                   4\n",
      "Russell Dixon                            4\n",
      "PEERS Network Partner                    4\n",
      "PEERS Network Member Jon Maddux          4\n",
      "PEERS Network Alumni Malcom Davies       4\n",
      "Masud                                    4\n",
      "Mitch                                    3\n",
      "PEERS Network Member Press               2\n",
      "PEERS                                    2\n",
      "Alumni                                   2\n",
      "                                        ..\n",
      "PEERS Network Alumni                     1\n",
      "Tru friends                              1\n",
      "I'm a member of PEERS                    1\n",
      "Email                                    1\n",
      "Tiffany Allan                            1\n",
      "PEERS Member Family / Friend             1\n",
      "Word of mouth                            1\n",
      "Mark Wilson                              1\n",
      "Mitch Thrower -Events.com                1\n",
      "PEERS Spouse                             1\n",
      "Russell and Heidi Dixon                  1\n",
      "PEERS email                              1\n",
      "Tanica Plett                             1\n",
      "past event                               1\n",
      "Atoosa Styc                              1\n",
      "Almni wife                               1\n",
      "PEERS Network member friend / family     1\n",
      "Tiffany                                  1\n",
      "Tim Callan & Masud Sarwary               1\n",
      "FRIENDS                                  1\n",
      "Alumni member                            1\n",
      "Tony Russell                             1\n",
      "Invited by PEERS, attended last year     1\n",
      "Member/President                         1\n",
      "PEERS Network Friend / Family            1\n",
      "member spouse                            1\n",
      "Tanya Eraca                              1\n",
      "Isaac de la Fuente                       1\n",
      "Timmy                                    1\n",
      "alumni                                   1\n",
      "Name: Attendee How did you hear about the PEERS Gala?, Length: 106, dtype: int64\n"
     ]
    }
   ],
   "source": [
    "# Attendee How did you hear about the PEERS Gala?\n",
    "print(event_bus['Attendee How did you hear about the PEERS Gala?'].value_counts())"
   ]
  },
  {
   "cell_type": "code",
   "execution_count": 114,
   "metadata": {},
   "outputs": [],
   "source": [
    "# changing the data column into datetime\n",
    "event_bus['datetime'] = pd.to_datetime(event_bus['Order Date'])"
   ]
  },
  {
   "cell_type": "code",
   "execution_count": 115,
   "metadata": {},
   "outputs": [
    {
     "data": {
      "text/plain": [
       "0   2018-09-14 10:48:00\n",
       "1   2018-10-11 18:15:00\n",
       "2   2018-09-18 17:38:00\n",
       "3   2018-09-18 17:38:00\n",
       "4   2018-08-28 13:28:00\n",
       "Name: datetime, dtype: datetime64[ns]"
      ]
     },
     "execution_count": 115,
     "metadata": {},
     "output_type": "execute_result"
    }
   ],
   "source": [
    "# checking the head of datetime column\n",
    "event_bus[\"datetime\"].head()"
   ]
  },
  {
   "cell_type": "code",
   "execution_count": 120,
   "metadata": {},
   "outputs": [
    {
     "data": {
      "text/plain": [
       "294   2018-08-23 16:02:00\n",
       "295   2018-08-23 16:02:00\n",
       "296   2018-08-31 22:12:00\n",
       "297   2018-09-17 08:45:00\n",
       "298   2018-09-17 08:45:00\n",
       "Name: datetime, dtype: datetime64[ns]"
      ]
     },
     "execution_count": 120,
     "metadata": {},
     "output_type": "execute_result"
    }
   ],
   "source": [
    "# checking the tail of the datatime column\n",
    "event_bus[\"datetime\"].tail()"
   ]
  },
  {
   "cell_type": "code",
   "execution_count": 127,
   "metadata": {},
   "outputs": [],
   "source": [
    "dates = event_bus[[\"datetime\"]]"
   ]
  },
  {
   "cell_type": "code",
   "execution_count": 128,
   "metadata": {},
   "outputs": [
    {
     "data": {
      "text/html": [
       "<div>\n",
       "<style scoped>\n",
       "    .dataframe tbody tr th:only-of-type {\n",
       "        vertical-align: middle;\n",
       "    }\n",
       "\n",
       "    .dataframe tbody tr th {\n",
       "        vertical-align: top;\n",
       "    }\n",
       "\n",
       "    .dataframe thead th {\n",
       "        text-align: right;\n",
       "    }\n",
       "</style>\n",
       "<table border=\"1\" class=\"dataframe\">\n",
       "  <thead>\n",
       "    <tr style=\"text-align: right;\">\n",
       "      <th></th>\n",
       "      <th>datetime</th>\n",
       "    </tr>\n",
       "  </thead>\n",
       "  <tbody>\n",
       "    <tr>\n",
       "      <th>0</th>\n",
       "      <td>2018-09-14 10:48:00</td>\n",
       "    </tr>\n",
       "    <tr>\n",
       "      <th>1</th>\n",
       "      <td>2018-10-11 18:15:00</td>\n",
       "    </tr>\n",
       "    <tr>\n",
       "      <th>2</th>\n",
       "      <td>2018-09-18 17:38:00</td>\n",
       "    </tr>\n",
       "    <tr>\n",
       "      <th>3</th>\n",
       "      <td>2018-09-18 17:38:00</td>\n",
       "    </tr>\n",
       "    <tr>\n",
       "      <th>4</th>\n",
       "      <td>2018-08-28 13:28:00</td>\n",
       "    </tr>\n",
       "  </tbody>\n",
       "</table>\n",
       "</div>"
      ],
      "text/plain": [
       "             datetime\n",
       "0 2018-09-14 10:48:00\n",
       "1 2018-10-11 18:15:00\n",
       "2 2018-09-18 17:38:00\n",
       "3 2018-09-18 17:38:00\n",
       "4 2018-08-28 13:28:00"
      ]
     },
     "execution_count": 128,
     "metadata": {},
     "output_type": "execute_result"
    }
   ],
   "source": [
    "dates.head()"
   ]
  },
  {
   "cell_type": "code",
   "execution_count": 131,
   "metadata": {},
   "outputs": [
    {
     "data": {
      "text/html": [
       "<div>\n",
       "<style scoped>\n",
       "    .dataframe tbody tr th:only-of-type {\n",
       "        vertical-align: middle;\n",
       "    }\n",
       "\n",
       "    .dataframe tbody tr th {\n",
       "        vertical-align: top;\n",
       "    }\n",
       "\n",
       "    .dataframe thead th {\n",
       "        text-align: right;\n",
       "    }\n",
       "</style>\n",
       "<table border=\"1\" class=\"dataframe\">\n",
       "  <thead>\n",
       "    <tr style=\"text-align: right;\">\n",
       "      <th></th>\n",
       "      <th>datetime</th>\n",
       "    </tr>\n",
       "  </thead>\n",
       "  <tbody>\n",
       "    <tr>\n",
       "      <th>count</th>\n",
       "      <td>299</td>\n",
       "    </tr>\n",
       "    <tr>\n",
       "      <th>unique</th>\n",
       "      <td>148</td>\n",
       "    </tr>\n",
       "    <tr>\n",
       "      <th>top</th>\n",
       "      <td>2018-09-21 15:02:00</td>\n",
       "    </tr>\n",
       "    <tr>\n",
       "      <th>freq</th>\n",
       "      <td>12</td>\n",
       "    </tr>\n",
       "    <tr>\n",
       "      <th>first</th>\n",
       "      <td>2018-08-04 21:18:00</td>\n",
       "    </tr>\n",
       "    <tr>\n",
       "      <th>last</th>\n",
       "      <td>2018-11-23 07:19:00</td>\n",
       "    </tr>\n",
       "  </tbody>\n",
       "</table>\n",
       "</div>"
      ],
      "text/plain": [
       "                   datetime\n",
       "count                   299\n",
       "unique                  148\n",
       "top     2018-09-21 15:02:00\n",
       "freq                     12\n",
       "first   2018-08-04 21:18:00\n",
       "last    2018-11-23 07:19:00"
      ]
     },
     "execution_count": 131,
     "metadata": {},
     "output_type": "execute_result"
    }
   ],
   "source": [
    "# Order data Descr\n",
    "dates.describe()"
   ]
  },
  {
   "cell_type": "code",
   "execution_count": 140,
   "metadata": {},
   "outputs": [],
   "source": [
    "# finding the min_date and Max_date and Mid_date\n",
    "min_date = dates.min()\n",
    "max_date = dates.max()\n",
    "mid_date = min_date + (max_date - min_date)/2"
   ]
  },
  {
   "cell_type": "code",
   "execution_count": 141,
   "metadata": {},
   "outputs": [
    {
     "data": {
      "text/plain": [
       "datetime   2018-09-29 02:18:30\n",
       "dtype: datetime64[ns]"
      ]
     },
     "execution_count": 141,
     "metadata": {},
     "output_type": "execute_result"
    }
   ],
   "source": [
    "# finding the mid date\n",
    "mid_date"
   ]
  },
  {
   "cell_type": "code",
   "execution_count": 149,
   "metadata": {},
   "outputs": [],
   "source": [
    "# those who have booked early\n",
    "early_dates = event_bus[event_bus[\"datetime\" ] < \"2018-09-29 02:18:30\"]"
   ]
  },
  {
   "cell_type": "code",
   "execution_count": 152,
   "metadata": {},
   "outputs": [
    {
     "data": {
      "text/plain": [
       "(273, 77)"
      ]
     },
     "execution_count": 152,
     "metadata": {},
     "output_type": "execute_result"
    }
   ],
   "source": [
    "# Majority booked early before 2018-09-29 02:18:30 which is the middle of the date\n",
    "early_dates.shape"
   ]
  },
  {
   "cell_type": "code",
   "execution_count": 183,
   "metadata": {},
   "outputs": [],
   "source": [
    "#parse_data[\"Order Date\"].resample(\"w\")"
   ]
  },
  {
   "cell_type": "code",
   "execution_count": 185,
   "metadata": {},
   "outputs": [
    {
     "data": {
      "text/plain": [
       "pandas.core.frame.DataFrame"
      ]
     },
     "execution_count": 185,
     "metadata": {},
     "output_type": "execute_result"
    }
   ],
   "source": [
    "type(parse_data)"
   ]
  },
  {
   "cell_type": "code",
   "execution_count": 229,
   "metadata": {},
   "outputs": [],
   "source": [
    "#event_bus['weekday'] = pd.DatetimeIndex(event_bus['datetime']).weekday\n",
    "#event_bus.groupby(\"weekday\").count()"
   ]
  },
  {
   "cell_type": "code",
   "execution_count": 204,
   "metadata": {},
   "outputs": [],
   "source": [
    "# date insight\n",
    "df_1 = parse_data.assign(dayOfweek=parse_data.index.weekday_name).groupby(\"dayOfweek\")[\"Registration Number\"].count()"
   ]
  },
  {
   "cell_type": "code",
   "execution_count": 205,
   "metadata": {},
   "outputs": [
    {
     "data": {
      "text/plain": [
       "dayOfweek\n",
       "Friday      85\n",
       "Monday      64\n",
       "Saturday    16\n",
       "Sunday       9\n",
       "Thursday    52\n",
       "Name: Registration Number, dtype: int64"
      ]
     },
     "execution_count": 205,
     "metadata": {},
     "output_type": "execute_result"
    }
   ],
   "source": [
    "# checking the head of the data\n",
    "df_1.head()"
   ]
  },
  {
   "cell_type": "code",
   "execution_count": 230,
   "metadata": {},
   "outputs": [],
   "source": [
    "# data insight using \"month\",\"GENDER\"\n",
    "df_2 = parse_data.assign(month=parse_data.index.month).groupby([\"month\",\"GENDER\"])[\"Registration Number\"].count()"
   ]
  },
  {
   "cell_type": "code",
   "execution_count": 231,
   "metadata": {},
   "outputs": [],
   "source": [
    "# saving the result into excel file\n",
    "df_2.to_excel(\"Result2.xlsx\")"
   ]
  },
  {
   "cell_type": "code",
   "execution_count": 232,
   "metadata": {},
   "outputs": [
    {
     "data": {
      "text/plain": [
       "month  GENDER\n",
       "8      F          6\n",
       "       M          8\n",
       "9      F          7\n",
       "       M         27\n",
       "       U          3\n",
       "10     F          2\n",
       "       M          3\n",
       "       U          1\n",
       "11     M          1\n",
       "Name: Registration Number, dtype: int64"
      ]
     },
     "execution_count": 232,
     "metadata": {},
     "output_type": "execute_result"
    }
   ],
   "source": [
    "# displaying the output\n",
    "df_2"
   ]
  },
  {
   "cell_type": "code",
   "execution_count": null,
   "metadata": {},
   "outputs": [],
   "source": []
  }
 ],
 "metadata": {
  "kernelspec": {
   "display_name": "Python 3",
   "language": "python",
   "name": "python3"
  },
  "language_info": {
   "codemirror_mode": {
    "name": "ipython",
    "version": 3
   },
   "file_extension": ".py",
   "mimetype": "text/x-python",
   "name": "python",
   "nbconvert_exporter": "python",
   "pygments_lexer": "ipython3",
   "version": "3.7.1"
  }
 },
 "nbformat": 4,
 "nbformat_minor": 2
}
